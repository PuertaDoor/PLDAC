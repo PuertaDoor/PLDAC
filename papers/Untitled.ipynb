{
 "cells": [
  {
   "cell_type": "code",
   "execution_count": 1,
   "id": "b102e38c-2e78-4316-a9cb-fdfc3fb0ca88",
   "metadata": {},
   "outputs": [
    {
     "name": "stdout",
     "output_type": "stream",
     "text": [
      "Traceback (most recent call last):\n",
      "  File \"/home/gameselo/miniconda3/envs/mapsi/bin/xpmir\", line 5, in <module>\n",
      "    from xpmir.__main__ import main\n",
      "  File \"/home/gameselo/Bureau/M1_DAC_2022_2023/PLDAC/experimaestro-ir/src/xpmir/__main__.py\", line 2, in <module>\n",
      "    from xpmir.papers.cli import papers_cli\n",
      "  File \"/home/gameselo/Bureau/M1_DAC_2022_2023/PLDAC/experimaestro-ir/src/xpmir/papers/cli.py\", line 26, in <module>\n",
      "    from xpmir.papers.helpers import PaperExperiment\n",
      "  File \"/home/gameselo/Bureau/M1_DAC_2022_2023/PLDAC/experimaestro-ir/src/xpmir/papers/helpers/__init__.py\", line 6, in <module>\n",
      "    from xpmir.papers import configuration, attrs_cached_property\n",
      "ImportError: cannot import name 'attrs_cached_property' from 'xpmir.papers' (/home/gameselo/Bureau/M1_DAC_2022_2023/PLDAC/experimaestro-ir/src/xpmir/papers/__init__.py)\n"
     ]
    }
   ],
   "source": [
    "!xpmir papers splade spladeV2 --configuration small experiments/"
   ]
  }
 ],
 "metadata": {
  "kernelspec": {
   "display_name": "Python 3",
   "language": "python",
   "name": "python3"
  },
  "language_info": {
   "codemirror_mode": {
    "name": "ipython",
    "version": 3
   },
   "file_extension": ".py",
   "mimetype": "text/x-python",
   "name": "python",
   "nbconvert_exporter": "python",
   "pygments_lexer": "ipython3",
   "version": "3.9.13"
  }
 },
 "nbformat": 4,
 "nbformat_minor": 5
}
