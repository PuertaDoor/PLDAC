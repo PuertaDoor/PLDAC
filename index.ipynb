{
 "cells": [
  {
   "cell_type": "code",
   "execution_count": 2,
   "id": "e08ac57a-12f4-489e-8ffb-9fed8cb01227",
   "metadata": {},
   "outputs": [],
   "source": [
    "import pandas as pd\n",
    "import pyterrier as pt"
   ]
  },
  {
   "cell_type": "code",
   "execution_count": 3,
   "id": "d991dc91-feb6-478d-a05f-fecd2b36428d",
   "metadata": {},
   "outputs": [
    {
     "name": "stderr",
     "output_type": "stream",
     "text": [
      "PyTerrier 0.9.2 has loaded Terrier 5.7 (built by craigm on 2022-11-10 18:30) and terrier-helper 0.0.7\n",
      "\n"
     ]
    }
   ],
   "source": [
    "pt.init()"
   ]
  },
  {
   "cell_type": "markdown",
   "id": "ea16807b-8e7c-4346-8c74-46260c3b0f31",
   "metadata": {},
   "source": [
    "## INDEXING TREC CAST 2020"
   ]
  },
  {
   "cell_type": "code",
   "execution_count": null,
   "id": "e9abe134-0ebb-4da2-a163-e5f14df89b83",
   "metadata": {},
   "outputs": [],
   "source": [
    "df_trec2020 = pd.read_csv(\"./2020data/2020docs.tsv\", sep='\\t', dtype=str, engine='python', quoting=3)\n",
    "print(\"ok\")\n",
    "indexer_2020 = pt.DFIndexer(\"./index/trec2020.index\")\n",
    "print(\"ok\")\n",
    "index2020_ref = indexer_2020.index(df_trec2020['doc_id'], df_trec2020['text'])"
   ]
  },
  {
   "cell_type": "code",
   "execution_count": 5,
   "id": "ac01edc1-30af-4060-ad0f-c03b44098cbf",
   "metadata": {},
   "outputs": [
    {
     "ename": "JavaException",
     "evalue": "JVM exception occurred: No IndexLoaders were supported for indexref ./index/; It may be your ref has the wrong location. Alternatively, Terrier is misconfigured - did you import the correct package to deal with this indexref? java.lang.UnsupportedOperationException",
     "output_type": "error",
     "traceback": [
      "\u001b[0;31m---------------------------------------------------------------------------\u001b[0m",
      "\u001b[0;31mJavaException\u001b[0m                             Traceback (most recent call last)",
      "Cell \u001b[0;32mIn [5], line 1\u001b[0m\n\u001b[0;32m----> 1\u001b[0m trec_index \u001b[38;5;241m=\u001b[39m pt\u001b[38;5;241m.\u001b[39mIndexFactory\u001b[38;5;241m.\u001b[39mof(\u001b[38;5;124m\"\u001b[39m\u001b[38;5;124m./index/\u001b[39m\u001b[38;5;124m\"\u001b[39m)\n\u001b[1;32m      2\u001b[0m \u001b[38;5;28mprint\u001b[39m(trec_index\u001b[38;5;241m.\u001b[39mgetCollectionStatistics()\u001b[38;5;241m.\u001b[39mtoString())\n",
      "File \u001b[0;32mjnius/jnius_export_class.pxi:1177\u001b[0m, in \u001b[0;36mjnius.JavaMultipleMethod.__call__\u001b[0;34m()\u001b[0m\n",
      "File \u001b[0;32mjnius/jnius_export_class.pxi:884\u001b[0m, in \u001b[0;36mjnius.JavaMethod.__call__\u001b[0;34m()\u001b[0m\n",
      "File \u001b[0;32mjnius/jnius_export_class.pxi:1056\u001b[0m, in \u001b[0;36mjnius.JavaMethod.call_staticmethod\u001b[0;34m()\u001b[0m\n",
      "File \u001b[0;32mjnius/jnius_utils.pxi:91\u001b[0m, in \u001b[0;36mjnius.check_exception\u001b[0;34m()\u001b[0m\n",
      "\u001b[0;31mJavaException\u001b[0m: JVM exception occurred: No IndexLoaders were supported for indexref ./index/; It may be your ref has the wrong location. Alternatively, Terrier is misconfigured - did you import the correct package to deal with this indexref? java.lang.UnsupportedOperationException"
     ]
    }
   ],
   "source": [
    "trec_index = pt.IndexFactory.of(\"./index/\")\n",
    "print(trec_index.getCollectionStatistics().toString())"
   ]
  }
 ],
 "metadata": {
  "kernelspec": {
   "display_name": "Python 3",
   "language": "python",
   "name": "python3"
  },
  "language_info": {
   "codemirror_mode": {
    "name": "ipython",
    "version": 3
   },
   "file_extension": ".py",
   "mimetype": "text/x-python",
   "name": "python",
   "nbconvert_exporter": "python",
   "pygments_lexer": "ipython3",
   "version": "3.9.13"
  }
 },
 "nbformat": 4,
 "nbformat_minor": 5
}
