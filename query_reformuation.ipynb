{
 "cells": [
  {
   "cell_type": "code",
   "execution_count": 2,
   "id": "8e365acd-44bb-4a0f-ada2-d59a9d4e164b",
   "metadata": {},
   "outputs": [],
   "source": [
    "from datasets import load_dataset\n",
    "from transformers import GPT2Tokenizer, GPT2Model, AutoTokenizer, AutoModelForSeq2SeqLM, AutoModelForMaskedLM\n",
    "from xpmir.models import AutoModel\n",
    "from xpmir.neural.splade import spladeV2_doc, spladeV2_max"
   ]
  },
  {
   "cell_type": "code",
   "execution_count": 4,
   "id": "b8d3bc43-113d-4cde-b0e4-9a5f0507e0a6",
   "metadata": {},
   "outputs": [
    {
     "name": "stderr",
     "output_type": "stream",
     "text": [
      "No config specified, defaulting to: canard_quretec/gold_supervision\n",
      "Found cached dataset canard_quretec (/home/gameselo/.cache/huggingface/datasets/uva-irlab___canard_quretec/gold_supervision/1.0.0/1ac09244525634387d6a8a110be7a27615ab34d6dae392a9b4e30e480cce0a62)\n"
     ]
    },
    {
     "data": {
      "application/vnd.jupyter.widget-view+json": {
       "model_id": "2fb1679f12fc4e93a1e927cec7c35a3f",
       "version_major": 2,
       "version_minor": 0
      },
      "text/plain": [
       "  0%|          | 0/3 [00:00<?, ?it/s]"
      ]
     },
     "metadata": {},
     "output_type": "display_data"
    }
   ],
   "source": [
    "dataset = load_dataset(\"uva-irlab/canard_quretec\")"
   ]
  },
  {
   "cell_type": "code",
   "execution_count": 5,
   "id": "2d0b9a30-9cc9-4f4a-9df1-ea1632934941",
   "metadata": {},
   "outputs": [],
   "source": [
    "# GPT2 PYTORCH MODEL\n",
    "\n",
    "tokenizer_gpt2 = GPT2Tokenizer.from_pretrained('gpt2')\n",
    "model_gpt2pt = GPT2Model.from_pretrained('gpt2')"
   ]
  },
  {
   "cell_type": "code",
   "execution_count": 6,
   "id": "95bfd836-db99-45af-bcf5-29f6540ab2d7",
   "metadata": {},
   "outputs": [
    {
     "name": "stderr",
     "output_type": "stream",
     "text": [
      "/home/gameselo/miniconda3/envs/mapsi/lib/python3.9/site-packages/transformers/models/t5/tokenization_t5_fast.py:155: FutureWarning: This tokenizer was incorrectly instantiated with a model max length of 512 which will be corrected in Transformers v5.\n",
      "For now, this behavior is kept to avoid breaking backwards compatibility when padding/encoding with `truncation is True`.\n",
      "- Be aware that you SHOULD NOT rely on t5-base automatically truncating your input to 512 when padding/encoding.\n",
      "- If you want to encode/pad to sequences longer than 512 you can either instantiate this tokenizer with `model_max_length` or pass `max_length` when encoding/padding.\n",
      "- To avoid this warning, please instantiate this tokenizer with `model_max_length` set to your preferred value.\n",
      "  warnings.warn(\n"
     ]
    }
   ],
   "source": [
    "# T5 HUGGINGFACE MODEL\n",
    "\n",
    "tokenizer_t5 = AutoTokenizer.from_pretrained(\"t5-base\")\n",
    "\n",
    "model_t5 = AutoModelForSeq2SeqLM.from_pretrained(\"t5-base\")"
   ]
  },
  {
   "cell_type": "code",
   "execution_count": 7,
   "id": "6be97bfe-ed97-414e-a687-32fb157ab57b",
   "metadata": {},
   "outputs": [
    {
     "data": {
      "application/vnd.jupyter.widget-view+json": {
       "model_id": "c820669cd2044e9f9a3d6c3e6589c461",
       "version_major": 2,
       "version_minor": 0
      },
      "text/plain": [
       "Fetching 2 files:   0%|          | 0/2 [00:00<?, ?it/s]"
      ]
     },
     "metadata": {},
     "output_type": "display_data"
    }
   ],
   "source": [
    "# MONOBERT\n",
    "\n",
    "model_monobert = AutoModel.load_from_hf_hub(\"xpmir/monobert\")"
   ]
  },
  {
   "cell_type": "code",
   "execution_count": 8,
   "id": "a296a988-a462-4631-9148-08cc4350217b",
   "metadata": {},
   "outputs": [
    {
     "data": {
      "application/vnd.jupyter.widget-view+json": {
       "model_id": "880eb2a2c82249e291d4b7650e212786",
       "version_major": 2,
       "version_minor": 0
      },
      "text/plain": [
       "Downloading:   0%|          | 0.00/438M [00:00<?, ?B/s]"
      ]
     },
     "metadata": {},
     "output_type": "display_data"
    }
   ],
   "source": [
    "tokenizer = AutoTokenizer.from_pretrained(\"naver/splade-cocondenser-ensembledistil\")\n",
    "\n",
    "model = AutoModelForMaskedLM.from_pretrained(\"naver/splade-cocondenser-ensembledistil\")"
   ]
  }
 ],
 "metadata": {
  "kernelspec": {
   "display_name": "Python 3",
   "language": "python",
   "name": "python3"
  },
  "language_info": {
   "codemirror_mode": {
    "name": "ipython",
    "version": 3
   },
   "file_extension": ".py",
   "mimetype": "text/x-python",
   "name": "python",
   "nbconvert_exporter": "python",
   "pygments_lexer": "ipython3",
   "version": "3.9.13"
  }
 },
 "nbformat": 4,
 "nbformat_minor": 5
}
